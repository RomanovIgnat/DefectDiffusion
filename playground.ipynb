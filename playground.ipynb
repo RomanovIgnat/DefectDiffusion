{
 "cells": [
  {
   "cell_type": "code",
   "execution_count": 1,
   "id": "8cb3e975-463b-4988-9559-ad3c6a7d55bc",
   "metadata": {},
   "outputs": [],
   "source": [
    "from pymatgen.io.cif import CifParser"
   ]
  },
  {
   "cell_type": "code",
   "execution_count": 2,
   "id": "3e80cb9e-68ed-406c-bfee-4e0d947987b5",
   "metadata": {},
   "outputs": [
    {
     "name": "stderr",
     "output_type": "stream",
     "text": [
      "/mnt/c/Users/123/Desktop/2D_crystals/DefectDiffusion/2Ddiff_env/lib/python3.10/site-packages/pymatgen/io/cif.py:1188: UserWarning: The default value of primitive was changed from True to False in https://github.com/materialsproject/pymatgen/pull/3419. CifParser now returns the cell in the CIF file as is. If you want the primitive cell, please set primitive=True explicitly.\n",
      "  warnings.warn(\n",
      "/mnt/c/Users/123/Desktop/2D_crystals/DefectDiffusion/2Ddiff_env/lib/python3.10/site-packages/pymatgen/io/cif.py:1221: UserWarning: Issues encountered while parsing CIF: 4 fractional coordinates rounded to ideal values to avoid issues with finite precision.\n",
      "  warnings.warn(\"Issues encountered while parsing CIF: \" + \"\\n\".join(self.warnings))\n"
     ]
    }
   ],
   "source": [
    "pristine_structure = CifParser('hBN.cif').parse_structures()[0]"
   ]
  },
  {
   "cell_type": "code",
   "execution_count": 3,
   "id": "122bab5a-af71-4cce-8304-f5e8a0ea2395",
   "metadata": {},
   "outputs": [
    {
     "data": {
      "text/plain": [
       "Structure Summary\n",
       "Lattice\n",
       "    abc : 2.51242846 2.5124284600000006 20.0\n",
       " angles : 90.0 90.0 120.00001201\n",
       " volume : 109.33217389088787\n",
       "      A : 2.51242846 0.0 1.538418735812857e-16\n",
       "      B : -1.2562146860838403 2.175826608230824 1.538418735812857e-16\n",
       "      C : 0.0 0.0 20.0\n",
       "    pbc : True True True\n",
       "PeriodicSite: B0 (B) (-3.041e-07, 1.451, 3.854) [0.3333, 0.6667, 0.1927]\n",
       "PeriodicSite: N3 (N) (1.256, 0.7253, 3.854) [0.6667, 0.3333, 0.1927]"
      ]
     },
     "execution_count": 3,
     "metadata": {},
     "output_type": "execute_result"
    }
   ],
   "source": [
    "pristine_structure"
   ]
  },
  {
   "cell_type": "code",
   "execution_count": 4,
   "id": "f619f8e4",
   "metadata": {},
   "outputs": [],
   "source": [
    "test_structure = pristine_structure * [10, 10, 1]\n",
    "test_structure.remove_sites([63, 81])"
   ]
  },
  {
   "cell_type": "code",
   "execution_count": 5,
   "id": "b29862f2-6aae-4492-955b-825970c119bf",
   "metadata": {},
   "outputs": [
    {
     "data": {
      "application/vnd.jupyter.widget-view+json": {
       "model_id": "db3a6bae3f0548b78b094508c97623fe",
       "version_major": 2,
       "version_minor": 0
      },
      "text/plain": []
     },
     "metadata": {},
     "output_type": "display_data"
    },
    {
     "data": {
      "application/vnd.jupyter.widget-view+json": {
       "model_id": "42a60f062cb14ec78a35b244b0cc537c",
       "version_major": 2,
       "version_minor": 0
      },
      "text/plain": [
       "NGLWidget()"
      ]
     },
     "metadata": {},
     "output_type": "display_data"
    }
   ],
   "source": [
    "import nglview as nv\n",
    "\n",
    "view = nv.show_pymatgen(test_structure)\n",
    "view"
   ]
  },
  {
   "cell_type": "code",
   "execution_count": 6,
   "id": "31e9862b-f9a4-49d7-a01e-85f6b6deabc1",
   "metadata": {},
   "outputs": [],
   "source": [
    "import matgl\n",
    "from matgl.ext.ase import M3GNetCalculator, MolecularDynamics, Relaxer"
   ]
  },
  {
   "cell_type": "code",
   "execution_count": 7,
   "id": "c2df8431",
   "metadata": {},
   "outputs": [],
   "source": [
    "import warnings\n",
    "\n",
    "from ase.md.velocitydistribution import MaxwellBoltzmannDistribution\n",
    "from pymatgen.core import Lattice, Structure\n",
    "from pymatgen.io.ase import AseAtomsAdaptor\n",
    "\n",
    "warnings.simplefilter(\"ignore\")"
   ]
  },
  {
   "cell_type": "code",
   "execution_count": 8,
   "id": "a314226d",
   "metadata": {},
   "outputs": [],
   "source": [
    "pot = matgl.load_model(\"M3GNet-MP-2021.2.8-PES\")"
   ]
  },
  {
   "cell_type": "code",
   "execution_count": 14,
   "id": "9bc62f99",
   "metadata": {},
   "outputs": [],
   "source": [
    "ase_adaptor = AseAtomsAdaptor()\n",
    "\n",
    "atoms = ase_adaptor.get_atoms(test_structure)\n",
    "\n",
    "MaxwellBoltzmannDistribution(atoms, temperature_K=2000)\n",
    "\n",
    "driver = MolecularDynamics(atoms, potential=pot, temperature=2000, logfile=None, trajectory='test.traj')\n",
    "\n",
    "driver.run(500)"
   ]
  },
  {
   "cell_type": "code",
   "execution_count": 10,
   "id": "11dd27d4",
   "metadata": {},
   "outputs": [],
   "source": [
    "from ase.io.trajectory import Trajectory"
   ]
  },
  {
   "cell_type": "code",
   "execution_count": 15,
   "id": "13ccb75e-4601-4ac8-9bb5-0966ceec1d87",
   "metadata": {},
   "outputs": [],
   "source": [
    "traj = Trajectory('test.traj')\n",
    "atoms = traj[-1]"
   ]
  },
  {
   "cell_type": "code",
   "execution_count": 16,
   "id": "00e96eb5",
   "metadata": {},
   "outputs": [
    {
     "data": {
      "text/plain": [
       "501"
      ]
     },
     "execution_count": 16,
     "metadata": {},
     "output_type": "execute_result"
    }
   ],
   "source": [
    "len(traj)"
   ]
  },
  {
   "cell_type": "code",
   "execution_count": 17,
   "id": "a73309ad",
   "metadata": {},
   "outputs": [
    {
     "data": {
      "application/vnd.jupyter.widget-view+json": {
       "model_id": "ac3e2a43a02c44caaf1f6f2c398993c1",
       "version_major": 2,
       "version_minor": 0
      },
      "text/plain": [
       "NGLWidget(max_frame=500)"
      ]
     },
     "metadata": {},
     "output_type": "display_data"
    }
   ],
   "source": [
    "view = nv.show_asetraj(traj)\n",
    "# view.add_trajectory(traj)\n",
    "view.add_cartoon(component=0)\n",
    "view"
   ]
  },
  {
   "cell_type": "code",
   "execution_count": 22,
   "id": "ea4d0d56",
   "metadata": {},
   "outputs": [],
   "source": [
    "view.clear()"
   ]
  },
  {
   "cell_type": "code",
   "execution_count": null,
   "id": "cec821bf",
   "metadata": {},
   "outputs": [],
   "source": []
  },
  {
   "cell_type": "code",
   "execution_count": null,
   "id": "81875480-d801-4f33-a9bd-06a274642caf",
   "metadata": {},
   "outputs": [],
   "source": []
  }
 ],
 "metadata": {
  "kernelspec": {
   "display_name": "2Ddiff_env",
   "language": "python",
   "name": "2ddiff_env"
  },
  "language_info": {
   "codemirror_mode": {
    "name": "ipython",
    "version": 3
   },
   "file_extension": ".py",
   "mimetype": "text/x-python",
   "name": "python",
   "nbconvert_exporter": "python",
   "pygments_lexer": "ipython3",
   "version": "3.10.9"
  },
  "varInspector": {
   "cols": {
    "lenName": 16,
    "lenType": 16,
    "lenVar": 40
   },
   "kernels_config": {
    "python": {
     "delete_cmd_postfix": "",
     "delete_cmd_prefix": "del ",
     "library": "var_list.py",
     "varRefreshCmd": "print(var_dic_list())"
    },
    "r": {
     "delete_cmd_postfix": ") ",
     "delete_cmd_prefix": "rm(",
     "library": "var_list.r",
     "varRefreshCmd": "cat(var_dic_list()) "
    }
   },
   "types_to_exclude": [
    "module",
    "function",
    "builtin_function_or_method",
    "instance",
    "_Feature"
   ],
   "window_display": false
  }
 },
 "nbformat": 4,
 "nbformat_minor": 5
}
